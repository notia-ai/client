{
 "cells": [
  {
   "cell_type": "markdown",
   "id": "bac0a5eb",
   "metadata": {},
   "source": [
    "# Loading a Dataset with Notia\n",
    "\n",
    "Notia provides the `load_dataset` function to handle all dataset loading."
   ]
  },
  {
   "cell_type": "code",
   "execution_count": 1,
   "id": "6aa20b73",
   "metadata": {},
   "outputs": [
    {
     "data": {
      "text/html": [
       "<pre style=\"white-space:pre;overflow-x:auto;line-height:normal;font-family:Menlo,'DejaVu Sans Mono',consolas,'Courier New',monospace\"><span style=\"color: #808000; text-decoration-color: #808000\">╭───────────────────────────────────────────────────────────────────────────────────────────╮</span>\n",
       "<span style=\"color: #808000; text-decoration-color: #808000\">│ You can find your API key 🔑 in your browser </span><a href=\"https://notia.ai/authorize\" target=\"_blank\"><span style=\"color: #000080; text-decoration-color: #000080; font-weight: bold; text-decoration: underline\">here</span></a><span style=\"color: #808000; text-decoration-color: #808000\">                                         │</span>\n",
       "<span style=\"color: #808000; text-decoration-color: #808000\">╰───────────────────────────────────────────────────────────────────────────────────────────╯</span>\n",
       "</pre>\n"
      ],
      "text/plain": [
       "\u001b[33m╭───────────────────────────────────────────────────────────────────────────────────────────╮\u001b[0m\n",
       "\u001b[33m│\u001b[0m\u001b[33m \u001b[0m\u001b[33mYou can find your API key 🔑 in your browser \u001b[0m\u001b]8;id=287323;https://notia.ai/authorize\u001b\\\u001b[1;4;34mhere\u001b[0m\u001b]8;;\u001b\\\u001b[33m \u001b[0m\u001b[33m                                       \u001b[0m\u001b[33m \u001b[0m\u001b[33m│\u001b[0m\n",
       "\u001b[33m╰───────────────────────────────────────────────────────────────────────────────────────────╯\u001b[0m\n"
      ]
     },
     "metadata": {},
     "output_type": "display_data"
    },
    {
     "data": {
      "text/html": [
       "<pre style=\"white-space:pre;overflow-x:auto;line-height:normal;font-family:Menlo,'DejaVu Sans Mono',consolas,'Courier New',monospace\"><span style=\"color: #008000; text-decoration-color: #008000; font-weight: bold\">Paste the API key from your profile and hit enter, or press ctrl+c to quit: </span>\n",
       "</pre>\n"
      ],
      "text/plain": [
       "\u001b[1;32mPaste the API key from your profile and hit enter, or press ctrl+c to quit: \u001b[0m\n"
      ]
     },
     "metadata": {},
     "output_type": "display_data"
    },
    {
     "name": "stdout",
     "output_type": "stream",
     "text": [
      "········\n"
     ]
    },
    {
     "data": {
      "text/html": [
       "<pre style=\"white-space:pre;overflow-x:auto;line-height:normal;font-family:Menlo,'DejaVu Sans Mono',consolas,'Courier New',monospace\"><span style=\"color: #008000; text-decoration-color: #008000; font-weight: bold\">Appending key for notia.api.notia.ai to your netrc file: </span><span style=\"color: #800080; text-decoration-color: #800080; font-weight: bold\">/Users/fleetwood/</span><span style=\"color: #ff00ff; text-decoration-color: #ff00ff; font-weight: bold\">.netrc</span>\n",
       "</pre>\n"
      ],
      "text/plain": [
       "\u001b[1;32mAppending key for notia.api.notia.ai to your netrc file: \u001b[0m\u001b[1;35m/Users/fleetwood/\u001b[0m\u001b[1;95m.netrc\u001b[0m\n"
      ]
     },
     "metadata": {},
     "output_type": "display_data"
    },
    {
     "data": {
      "text/plain": [
       "True"
      ]
     },
     "execution_count": 1,
     "metadata": {},
     "output_type": "execute_result"
    }
   ],
   "source": [
    "# First we need to login and provide our API Key\n",
    "import notia\n",
    "notia.login(relogin=True)"
   ]
  },
  {
   "cell_type": "markdown",
   "id": "d4ff5f9c",
   "metadata": {},
   "source": [
    "### Searching the Notia Marketplace\n",
    "You can easily search the Notia Marketplace using the `notia.search()` function. This gives you a quick summary of the datasets available, and provides the `ID` field you can use to download the dataset."
   ]
  },
  {
   "cell_type": "code",
   "execution_count": 9,
   "id": "ef186e45",
   "metadata": {
    "scrolled": false
   },
   "outputs": [
    {
     "data": {
      "text/html": [
       "<pre style=\"white-space:pre;overflow-x:auto;line-height:normal;font-family:Menlo,'DejaVu Sans Mono',consolas,'Courier New',monospace\">╭──────────────┬────────────────────────────────────────────────────────────────┬───────────╮\n",
       "│<span style=\"font-weight: bold\"> ID           </span>│<span style=\"font-weight: bold\"> Name                                                           </span>│<span style=\"font-weight: bold\">      Size </span>│\n",
       "├──────────────┼────────────────────────────────────────────────────────────────┼───────────┤\n",
       "│ xf6cTzcy     │ <a href=\"https://notia.ai/dataset/xf6cTzcy\" target=\"_blank\">Yelp Polarity | Text Sentiment Analysis</a>                        │   10.3MiB │\n",
       "│ zN33asl4     │ <a href=\"https://notia.ai/dataset/zN33asl4\" target=\"_blank\">Reuters News Dataset | 1987 Newswire</a>                           │   23.3MiB │\n",
       "│ 1oXqos8B     │ <a href=\"https://notia.ai/dataset/1oXqos8B\" target=\"_blank\">EURLEX | Legal Multi Label Text Classification</a>                 │   47.9MiB │\n",
       "│ vDjpBpfa     │ <a href=\"https://notia.ai/dataset/vDjpBpfa\" target=\"_blank\">Amazon Reviews | Multiple Languages</a>                            │   23.2MiB │\n",
       "│ 4uDR9Vou     │ <a href=\"https://notia.ai/dataset/4uDR9Vou\" target=\"_blank\">Allegro Reviews | Sentiment Analysis</a>                           │    2.2MiB │\n",
       "╰──────────────┴────────────────────────────────────────────────────────────────┴───────────╯\n",
       "</pre>\n"
      ],
      "text/plain": [
       "╭──────────────┬────────────────────────────────────────────────────────────────┬───────────╮\n",
       "│\u001b[1m \u001b[0m\u001b[1mID          \u001b[0m\u001b[1m \u001b[0m│\u001b[1m \u001b[0m\u001b[1mName                                                          \u001b[0m\u001b[1m \u001b[0m│\u001b[1m \u001b[0m\u001b[1m     Size\u001b[0m\u001b[1m \u001b[0m│\n",
       "├──────────────┼────────────────────────────────────────────────────────────────┼───────────┤\n",
       "│ xf6cTzcy     │ \u001b]8;id=47623;https://notia.ai/dataset/xf6cTzcy\u001b\\Yelp Polarity | Text Sentiment Analysis\u001b]8;;\u001b\\                        │   10.3MiB │\n",
       "│ zN33asl4     │ \u001b]8;id=838872;https://notia.ai/dataset/zN33asl4\u001b\\Reuters News Dataset | 1987 Newswire\u001b]8;;\u001b\\                           │   23.3MiB │\n",
       "│ 1oXqos8B     │ \u001b]8;id=528191;https://notia.ai/dataset/1oXqos8B\u001b\\EURLEX | Legal Multi Label Text Classification\u001b]8;;\u001b\\                 │   47.9MiB │\n",
       "│ vDjpBpfa     │ \u001b]8;id=350236;https://notia.ai/dataset/vDjpBpfa\u001b\\Amazon Reviews | Multiple Languages\u001b]8;;\u001b\\                            │   23.2MiB │\n",
       "│ 4uDR9Vou     │ \u001b]8;id=649637;https://notia.ai/dataset/4uDR9Vou\u001b\\Allegro Reviews | Sentiment Analysis\u001b]8;;\u001b\\                           │    2.2MiB │\n",
       "╰──────────────┴────────────────────────────────────────────────────────────────┴───────────╯\n"
      ]
     },
     "metadata": {},
     "output_type": "display_data"
    }
   ],
   "source": [
    "notia.search()"
   ]
  },
  {
   "cell_type": "markdown",
   "id": "0f1fb733",
   "metadata": {},
   "source": [
    "### Loading the dataset\n",
    "Once we have the `ID` we are interested in, we can simply call `load_dataset` with the following parameters. `load_dataset` has the `load` flag, which we can set to `False` if we just want to download the dataset and return the path (This is handy when the dataset is provided in a format that Notia cannot parse, such as a `.zip` file)."
   ]
  },
  {
   "cell_type": "code",
   "execution_count": 17,
   "id": "0d56d4eb",
   "metadata": {},
   "outputs": [
    {
     "data": {
      "text/html": [
       "<pre style=\"white-space:pre;overflow-x:auto;line-height:normal;font-family:Menlo,'DejaVu Sans Mono',consolas,'Courier New',monospace\"><span style=\"color: #008000; text-decoration-color: #008000; font-weight: bold\">4uDR9Vou not found in cache or force_download set to </span><span style=\"color: #00ff00; text-decoration-color: #00ff00; font-weight: bold; font-style: italic\">True</span><span style=\"color: #008000; text-decoration-color: #008000; font-weight: bold\">,downloading to </span>\n",
       "<span style=\"color: #800080; text-decoration-color: #800080; font-weight: bold\">/Users/fleetwood/.cache/notia/datasets/downloads/</span><span style=\"color: #ff00ff; text-decoration-color: #ff00ff; font-weight: bold\">tmpsnm_dug3</span>\n",
       "</pre>\n"
      ],
      "text/plain": [
       "\u001b[1;32m4uDR9Vou not found in cache or force_download set to \u001b[0m\u001b[1;3;92mTrue\u001b[0m\u001b[1;32m,downloading to \u001b[0m\n",
       "\u001b[1;35m/Users/fleetwood/.cache/notia/datasets/downloads/\u001b[0m\u001b[1;95mtmpsnm_dug3\u001b[0m\n"
      ]
     },
     "metadata": {},
     "output_type": "display_data"
    },
    {
     "data": {
      "application/vnd.jupyter.widget-view+json": {
       "model_id": "4eef871474474e95828e06049f64d1d8",
       "version_major": 2,
       "version_minor": 0
      },
      "text/plain": [
       "Output()"
      ]
     },
     "metadata": {},
     "output_type": "display_data"
    },
    {
     "data": {
      "text/html": [
       "<pre style=\"white-space:pre;overflow-x:auto;line-height:normal;font-family:Menlo,'DejaVu Sans Mono',consolas,'Courier New',monospace\"></pre>\n"
      ],
      "text/plain": []
     },
     "metadata": {},
     "output_type": "display_data"
    },
    {
     "data": {
      "text/html": [
       "<pre style=\"white-space:pre;overflow-x:auto;line-height:normal;font-family:Menlo,'DejaVu Sans Mono',consolas,'Courier New',monospace\">\n",
       "</pre>\n"
      ],
      "text/plain": [
       "\n"
      ]
     },
     "metadata": {},
     "output_type": "display_data"
    },
    {
     "name": "stdout",
     "output_type": "stream",
     "text": [
      "/Users/fleetwood/.cache/notia/datasets/4uDR9Vou/train\n"
     ]
    },
    {
     "data": {
      "text/html": [
       "<div>\n",
       "<style scoped>\n",
       "    .dataframe tbody tr th:only-of-type {\n",
       "        vertical-align: middle;\n",
       "    }\n",
       "\n",
       "    .dataframe tbody tr th {\n",
       "        vertical-align: top;\n",
       "    }\n",
       "\n",
       "    .dataframe thead th {\n",
       "        text-align: right;\n",
       "    }\n",
       "</style>\n",
       "<table border=\"1\" class=\"dataframe\">\n",
       "  <thead>\n",
       "    <tr style=\"text-align: right;\">\n",
       "      <th></th>\n",
       "      <th>text</th>\n",
       "      <th>rating</th>\n",
       "    </tr>\n",
       "  </thead>\n",
       "  <tbody>\n",
       "    <tr>\n",
       "      <th>0</th>\n",
       "      <td>Jako do ceny dobra. Przyssawka mogłaby być lep...</td>\n",
       "      <td>3.0</td>\n",
       "    </tr>\n",
       "    <tr>\n",
       "      <th>1</th>\n",
       "      <td>Na słuchawkę czekałam spory czas a po zadzwoni...</td>\n",
       "      <td>1.0</td>\n",
       "    </tr>\n",
       "    <tr>\n",
       "      <th>2</th>\n",
       "      <td>Czajnik na pierwszy rzut oka wygląda ok, ale n...</td>\n",
       "      <td>1.0</td>\n",
       "    </tr>\n",
       "    <tr>\n",
       "      <th>3</th>\n",
       "      <td>Bardzo fajny czajnik, na pewno nie gorszy od m...</td>\n",
       "      <td>4.0</td>\n",
       "    </tr>\n",
       "    <tr>\n",
       "      <th>4</th>\n",
       "      <td>Pomysł na produkt (uchwyt na kierownicę) bardz...</td>\n",
       "      <td>2.0</td>\n",
       "    </tr>\n",
       "    <tr>\n",
       "      <th>...</th>\n",
       "      <td>...</td>\n",
       "      <td>...</td>\n",
       "    </tr>\n",
       "    <tr>\n",
       "      <th>9572</th>\n",
       "      <td>Produkt nie do końca zgadza się z opisem aukcj...</td>\n",
       "      <td>4.0</td>\n",
       "    </tr>\n",
       "    <tr>\n",
       "      <th>9573</th>\n",
       "      <td>Opaska Xiaomi Mi Band 4 to super gadżet. Wedłu...</td>\n",
       "      <td>5.0</td>\n",
       "    </tr>\n",
       "    <tr>\n",
       "      <th>9574</th>\n",
       "      <td>Bardzo ładnie prezentuje sie po zamontowaniu. ...</td>\n",
       "      <td>4.0</td>\n",
       "    </tr>\n",
       "    <tr>\n",
       "      <th>9575</th>\n",
       "      <td>Nie wiem jakie są zalety ani wady ani jak to o...</td>\n",
       "      <td>2.0</td>\n",
       "    </tr>\n",
       "    <tr>\n",
       "      <th>9576</th>\n",
       "      <td>...</td>\n",
       "      <td>5.0</td>\n",
       "    </tr>\n",
       "  </tbody>\n",
       "</table>\n",
       "<p>9577 rows × 2 columns</p>\n",
       "</div>"
      ],
      "text/plain": [
       "                                                   text  rating\n",
       "0     Jako do ceny dobra. Przyssawka mogłaby być lep...     3.0\n",
       "1     Na słuchawkę czekałam spory czas a po zadzwoni...     1.0\n",
       "2     Czajnik na pierwszy rzut oka wygląda ok, ale n...     1.0\n",
       "3     Bardzo fajny czajnik, na pewno nie gorszy od m...     4.0\n",
       "4     Pomysł na produkt (uchwyt na kierownicę) bardz...     2.0\n",
       "...                                                 ...     ...\n",
       "9572  Produkt nie do końca zgadza się z opisem aukcj...     4.0\n",
       "9573  Opaska Xiaomi Mi Band 4 to super gadżet. Wedłu...     5.0\n",
       "9574  Bardzo ładnie prezentuje sie po zamontowaniu. ...     4.0\n",
       "9575  Nie wiem jakie są zalety ani wady ani jak to o...     2.0\n",
       "9576                                                ...     5.0\n",
       "\n",
       "[9577 rows x 2 columns]"
      ]
     },
     "execution_count": 17,
     "metadata": {},
     "output_type": "execute_result"
    }
   ],
   "source": [
    "notia.load_dataset(ID=\"4uDR9Vou\", load=True, split=\"train\")"
   ]
  },
  {
   "cell_type": "code",
   "execution_count": null,
   "id": "3d0fb455",
   "metadata": {},
   "outputs": [],
   "source": []
  }
 ],
 "metadata": {
  "kernelspec": {
   "display_name": "Python 3 (ipykernel)",
   "language": "python",
   "name": "python3"
  },
  "language_info": {
   "codemirror_mode": {
    "name": "ipython",
    "version": 3
   },
   "file_extension": ".py",
   "mimetype": "text/x-python",
   "name": "python",
   "nbconvert_exporter": "python",
   "pygments_lexer": "ipython3",
   "version": "3.8.11"
  }
 },
 "nbformat": 4,
 "nbformat_minor": 5
}

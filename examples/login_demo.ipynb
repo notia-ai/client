{
 "cells": [
  {
   "cell_type": "markdown",
   "id": "b1e24015",
   "metadata": {},
   "source": [
    "# Logging into Notia\n",
    "\n",
    "Notia provides the `login` function to quickly login to the platform. If you've changed accounts, you can use the `relogin=True` parameter to refresh your API Key.\n",
    "\n",
    "Running the below cell will provide a link - simply click the link and the Notia platform will open in a new tab. Once there, you can click to copy your API Key to your clipboard. Return to your notebook and paste it into the password box below."
   ]
  },
  {
   "cell_type": "code",
   "execution_count": 1,
   "id": "f5d8ac3d",
   "metadata": {},
   "outputs": [
    {
     "data": {
      "text/html": [
       "<pre style=\"white-space:pre;overflow-x:auto;line-height:normal;font-family:Menlo,'DejaVu Sans Mono',consolas,'Courier New',monospace\"><span style=\"color: #808000; text-decoration-color: #808000\">╭───────────────────────────────────────────────────────────────────────────────────────────╮</span>\n",
       "<span style=\"color: #808000; text-decoration-color: #808000\">│ You can find your API key 🔑 in your browser </span><a href=\"https://notia.ai/authorize\" target=\"_blank\"><span style=\"color: #000080; text-decoration-color: #000080; font-weight: bold; text-decoration: underline\">here</span></a><span style=\"color: #808000; text-decoration-color: #808000\">                                         │</span>\n",
       "<span style=\"color: #808000; text-decoration-color: #808000\">╰───────────────────────────────────────────────────────────────────────────────────────────╯</span>\n",
       "</pre>\n"
      ],
      "text/plain": [
       "\u001b[33m╭───────────────────────────────────────────────────────────────────────────────────────────╮\u001b[0m\n",
       "\u001b[33m│\u001b[0m\u001b[33m \u001b[0m\u001b[33mYou can find your API key 🔑 in your browser \u001b[0m\u001b]8;id=981073;https://notia.ai/authorize\u001b\\\u001b[1;4;34mhere\u001b[0m\u001b]8;;\u001b\\\u001b[33m \u001b[0m\u001b[33m                                       \u001b[0m\u001b[33m \u001b[0m\u001b[33m│\u001b[0m\n",
       "\u001b[33m╰───────────────────────────────────────────────────────────────────────────────────────────╯\u001b[0m\n"
      ]
     },
     "metadata": {},
     "output_type": "display_data"
    },
    {
     "data": {
      "text/html": [
       "<pre style=\"white-space:pre;overflow-x:auto;line-height:normal;font-family:Menlo,'DejaVu Sans Mono',consolas,'Courier New',monospace\"><span style=\"color: #008000; text-decoration-color: #008000; font-weight: bold\">Paste the API key from your profile and hit enter, or press ctrl+c to quit: </span>\n",
       "</pre>\n"
      ],
      "text/plain": [
       "\u001b[1;32mPaste the API key from your profile and hit enter, or press ctrl+c to quit: \u001b[0m\n"
      ]
     },
     "metadata": {},
     "output_type": "display_data"
    },
    {
     "name": "stdout",
     "output_type": "stream",
     "text": [
      "········\n"
     ]
    },
    {
     "data": {
      "text/html": [
       "<pre style=\"white-space:pre;overflow-x:auto;line-height:normal;font-family:Menlo,'DejaVu Sans Mono',consolas,'Courier New',monospace\"><span style=\"color: #008000; text-decoration-color: #008000; font-weight: bold\">Appending key for notia.api.notia.ai to your netrc file: </span><span style=\"color: #800080; text-decoration-color: #800080; font-weight: bold\">/Users/fleetwood/</span><span style=\"color: #ff00ff; text-decoration-color: #ff00ff; font-weight: bold\">.netrc</span>\n",
       "</pre>\n"
      ],
      "text/plain": [
       "\u001b[1;32mAppending key for notia.api.notia.ai to your netrc file: \u001b[0m\u001b[1;35m/Users/fleetwood/\u001b[0m\u001b[1;95m.netrc\u001b[0m\n"
      ]
     },
     "metadata": {},
     "output_type": "display_data"
    },
    {
     "data": {
      "text/plain": [
       "True"
      ]
     },
     "execution_count": 1,
     "metadata": {},
     "output_type": "execute_result"
    }
   ],
   "source": [
    "import notia\n",
    "notia.login(relogin=True)"
   ]
  },
  {
   "cell_type": "markdown",
   "id": "2cd4d083",
   "metadata": {},
   "source": [
    "### That's all there is to it! \n",
    "Now you're authenticated you can search the platform, browse your dataset library, and load datasets - all from your notebook! Check out our other example notebooks for more details."
   ]
  },
  {
   "cell_type": "code",
   "execution_count": null,
   "id": "144370c5",
   "metadata": {},
   "outputs": [],
   "source": []
  }
 ],
 "metadata": {
  "kernelspec": {
   "display_name": "Python 3 (ipykernel)",
   "language": "python",
   "name": "python3"
  },
  "language_info": {
   "codemirror_mode": {
    "name": "ipython",
    "version": 3
   },
   "file_extension": ".py",
   "mimetype": "text/x-python",
   "name": "python",
   "nbconvert_exporter": "python",
   "pygments_lexer": "ipython3",
   "version": "3.8.11"
  }
 },
 "nbformat": 4,
 "nbformat_minor": 5
}

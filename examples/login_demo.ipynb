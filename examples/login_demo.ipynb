{
 "cells": [
  {
   "cell_type": "code",
   "execution_count": 1,
   "id": "6aa20b73",
   "metadata": {},
   "outputs": [],
   "source": [
    "import notia"
   ]
  },
  {
   "cell_type": "code",
   "execution_count": 2,
   "id": "f5d8ac3d",
   "metadata": {},
   "outputs": [
    {
     "data": {
      "text/html": [
       "<pre style=\"white-space:pre;overflow-x:auto;line-height:normal;font-family:Menlo,'DejaVu Sans Mono',consolas,'Courier New',monospace\"><span style=\"color: #808000; text-decoration-color: #808000\">╭───────────────────────────────────────────────────────────────────────────────────────────╮</span>\n",
       "<span style=\"color: #808000; text-decoration-color: #808000\">│ You can find your API key 🔑 in your browser </span><a href=\"https://notia.ai/authorize\" target=\"_blank\"><span style=\"color: #000080; text-decoration-color: #000080; font-weight: bold; text-decoration: underline\">here</span></a><span style=\"color: #808000; text-decoration-color: #808000\">                                         │</span>\n",
       "<span style=\"color: #808000; text-decoration-color: #808000\">╰───────────────────────────────────────────────────────────────────────────────────────────╯</span>\n",
       "</pre>\n"
      ],
      "text/plain": [
       "\u001b[33m╭───────────────────────────────────────────────────────────────────────────────────────────╮\u001b[0m\n",
       "\u001b[33m│\u001b[0m\u001b[33m \u001b[0m\u001b[33mYou can find your API key 🔑 in your browser \u001b[0m\u001b]8;id=292914;https://notia.ai/authorize\u001b\\\u001b[1;4;34mhere\u001b[0m\u001b]8;;\u001b\\\u001b[33m \u001b[0m\u001b[33m                                       \u001b[0m\u001b[33m \u001b[0m\u001b[33m│\u001b[0m\n",
       "\u001b[33m╰───────────────────────────────────────────────────────────────────────────────────────────╯\u001b[0m\n"
      ]
     },
     "metadata": {},
     "output_type": "display_data"
    },
    {
     "data": {
      "text/html": [
       "<pre style=\"white-space:pre;overflow-x:auto;line-height:normal;font-family:Menlo,'DejaVu Sans Mono',consolas,'Courier New',monospace\"><span style=\"color: #008000; text-decoration-color: #008000; font-weight: bold\">Paste the API key from your profile and hit enter, or press ctrl+c to quit: </span>\n",
       "</pre>\n"
      ],
      "text/plain": [
       "\u001b[1;32mPaste the API key from your profile and hit enter, or press ctrl+c to quit: \u001b[0m\n"
      ]
     },
     "metadata": {},
     "output_type": "display_data"
    },
    {
     "name": "stdout",
     "output_type": "stream",
     "text": [
      "········\n"
     ]
    },
    {
     "data": {
      "text/html": [
       "<pre style=\"white-space:pre;overflow-x:auto;line-height:normal;font-family:Menlo,'DejaVu Sans Mono',consolas,'Courier New',monospace\"><span style=\"color: #008000; text-decoration-color: #008000; font-weight: bold\">Appending key for notia.api.notia.ai to your netrc file: </span><span style=\"color: #800080; text-decoration-color: #800080; font-weight: bold\">/Users/fleetwood/</span><span style=\"color: #ff00ff; text-decoration-color: #ff00ff; font-weight: bold\">.netrc</span>\n",
       "</pre>\n"
      ],
      "text/plain": [
       "\u001b[1;32mAppending key for notia.api.notia.ai to your netrc file: \u001b[0m\u001b[1;35m/Users/fleetwood/\u001b[0m\u001b[1;95m.netrc\u001b[0m\n"
      ]
     },
     "metadata": {},
     "output_type": "display_data"
    },
    {
     "data": {
      "text/plain": [
       "True"
      ]
     },
     "execution_count": 2,
     "metadata": {},
     "output_type": "execute_result"
    }
   ],
   "source": [
    "notia.login(relogin=True)"
   ]
  },
  {
   "cell_type": "code",
   "execution_count": null,
   "id": "3d0fb455",
   "metadata": {},
   "outputs": [],
   "source": []
  }
 ],
 "metadata": {
  "kernelspec": {
   "display_name": "Python 3 (ipykernel)",
   "language": "python",
   "name": "python3"
  },
  "language_info": {
   "codemirror_mode": {
    "name": "ipython",
    "version": 3
   },
   "file_extension": ".py",
   "mimetype": "text/x-python",
   "name": "python",
   "nbconvert_exporter": "python",
   "pygments_lexer": "ipython3",
   "version": "3.8.11"
  }
 },
 "nbformat": 4,
 "nbformat_minor": 5
}

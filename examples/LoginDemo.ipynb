{
 "cells": [
  {
   "cell_type": "code",
   "execution_count": 1,
   "id": "6aa20b73",
   "metadata": {},
   "outputs": [],
   "source": [
    "import notia"
   ]
  },
  {
   "cell_type": "code",
   "execution_count": 2,
   "id": "f5d8ac3d",
   "metadata": {},
   "outputs": [
    {
     "data": {
      "text/html": [
       "<pre style=\"white-space:pre;overflow-x:auto;line-height:normal;font-family:Menlo,'DejaVu Sans Mono',consolas,'Courier New',monospace\"><span style=\"color: #808000; text-decoration-color: #808000; font-weight: bold\">╔═══════════════════════════════════════════════════════════════════════════════════════════╗</span>\n",
       "<span style=\"color: #808000; text-decoration-color: #808000; font-weight: bold\">║ You can find your API key 🔑 in your browser </span><a href=\"https://notia.ai/authorize\" target=\"_blank\"><span style=\"color: #000080; text-decoration-color: #000080; font-weight: bold; text-decoration: underline\">here</span></a><span style=\"color: #808000; text-decoration-color: #808000; font-weight: bold\">                                         ║</span>\n",
       "<span style=\"color: #808000; text-decoration-color: #808000; font-weight: bold\">╚═══════════════════════════════════════════════════════════════════════════════════════════╝</span>\n",
       "</pre>\n"
      ],
      "text/plain": [
       "\u001b[1;33m╔═══════════════════════════════════════════════════════════════════════════════════════════╗\u001b[0m\n",
       "\u001b[1;33m║\u001b[0m\u001b[1;33m \u001b[0m\u001b[1;33mYou can find your API key 🔑 in your browser \u001b[0m\u001b]8;id=473990;https://notia.ai/authorize\u001b\\\u001b[1;4;34mhere\u001b[0m\u001b]8;;\u001b\\\u001b[1;33m \u001b[0m\u001b[1;33m                                       \u001b[0m\u001b[1;33m \u001b[0m\u001b[1;33m║\u001b[0m\n",
       "\u001b[1;33m╚═══════════════════════════════════════════════════════════════════════════════════════════╝\u001b[0m\n"
      ]
     },
     "metadata": {},
     "output_type": "display_data"
    },
    {
     "data": {
      "text/html": [
       "<pre style=\"white-space:pre;overflow-x:auto;line-height:normal;font-family:Menlo,'DejaVu Sans Mono',consolas,'Courier New',monospace\"><span style=\"color: #008000; text-decoration-color: #008000; font-weight: bold\">Paste the API key from your profile and hit enter, or press ctrl+c to quit: </span>\n",
       "</pre>\n"
      ],
      "text/plain": [
       "\u001b[1;32mPaste the API key from your profile and hit enter, or press ctrl+c to quit: \u001b[0m\n"
      ]
     },
     "metadata": {},
     "output_type": "display_data"
    },
    {
     "name": "stdout",
     "output_type": "stream",
     "text": [
      "········\n"
     ]
    },
    {
     "data": {
      "text/html": [
       "<pre style=\"white-space:pre;overflow-x:auto;line-height:normal;font-family:Menlo,'DejaVu Sans Mono',consolas,'Courier New',monospace\"><span style=\"color: #008000; text-decoration-color: #008000; font-weight: bold\">Appending key for notia.api.notia.ai to your netrc file: </span><span style=\"color: #800080; text-decoration-color: #800080; font-weight: bold\">/Users/fleetwood/</span><span style=\"color: #ff00ff; text-decoration-color: #ff00ff; font-weight: bold\">.netrc</span>\n",
       "</pre>\n"
      ],
      "text/plain": [
       "\u001b[1;32mAppending key for notia.api.notia.ai to your netrc file: \u001b[0m\u001b[1;35m/Users/fleetwood/\u001b[0m\u001b[1;95m.netrc\u001b[0m\n"
      ]
     },
     "metadata": {},
     "output_type": "display_data"
    },
    {
     "data": {
      "text/plain": [
       "True"
      ]
     },
     "execution_count": 2,
     "metadata": {},
     "output_type": "execute_result"
    }
   ],
   "source": [
    "notia.login(relogin=True)"
   ]
  },
  {
   "cell_type": "code",
   "execution_count": 3,
   "id": "ef186e45",
   "metadata": {},
   "outputs": [
    {
     "data": {
      "text/html": [
       "<pre style=\"white-space:pre;overflow-x:auto;line-height:normal;font-family:Menlo,'DejaVu Sans Mono',consolas,'Courier New',monospace\">┏━━━━━━━━━━┳━━━━━━━━┳━━━━━━━━━┓\n",
       "┃<span style=\"color: #008000; text-decoration-color: #008000; font-weight: bold\"> ID       </span>┃<span style=\"color: #008000; text-decoration-color: #008000; font-weight: bold\"> Name   </span>┃<span style=\"color: #008000; text-decoration-color: #008000; font-weight: bold\">    Size </span>┃\n",
       "┡━━━━━━━━━━╇━━━━━━━━╇━━━━━━━━━┩\n",
       "│ TwTctzfV │ tunizi │ 71.9KiB │\n",
       "└──────────┴────────┴─────────┘\n",
       "</pre>\n"
      ],
      "text/plain": [
       "┏━━━━━━━━━━┳━━━━━━━━┳━━━━━━━━━┓\n",
       "┃\u001b[1;32m \u001b[0m\u001b[1;32mID      \u001b[0m\u001b[1;32m \u001b[0m┃\u001b[1;32m \u001b[0m\u001b[1;32mName  \u001b[0m\u001b[1;32m \u001b[0m┃\u001b[1;32m \u001b[0m\u001b[1;32m   Size\u001b[0m\u001b[1;32m \u001b[0m┃\n",
       "┡━━━━━━━━━━╇━━━━━━━━╇━━━━━━━━━┩\n",
       "│ TwTctzfV │ tunizi │ 71.9KiB │\n",
       "└──────────┴────────┴─────────┘\n"
      ]
     },
     "metadata": {},
     "output_type": "display_data"
    }
   ],
   "source": [
    "notia.search(\"tunizi\")"
   ]
  },
  {
   "cell_type": "code",
   "execution_count": 5,
   "id": "3d258693",
   "metadata": {},
   "outputs": [
    {
     "ename": "ValueError",
     "evalue": "Load was true, but Tabular or JSON file was notprovided. Please set load to false and manually load the filefrom the provided Path. ",
     "output_type": "error",
     "traceback": [
      "\u001b[0;31m---------------------------------------------------------------------------\u001b[0m",
      "\u001b[0;31mValueError\u001b[0m                                Traceback (most recent call last)",
      "Input \u001b[0;32mIn [5]\u001b[0m, in \u001b[0;36m<cell line: 1>\u001b[0;34m()\u001b[0m\n\u001b[0;32m----> 1\u001b[0m \u001b[43mnotia\u001b[49m\u001b[38;5;241;43m.\u001b[39;49m\u001b[43mload_dataset\u001b[49m\u001b[43m(\u001b[49m\u001b[43mslug\u001b[49m\u001b[38;5;241;43m=\u001b[39;49m\u001b[38;5;124;43m\"\u001b[39;49m\u001b[38;5;124;43mTwTctzfV\u001b[39;49m\u001b[38;5;124;43m\"\u001b[39;49m\u001b[43m,\u001b[49m\u001b[43m \u001b[49m\u001b[43mload\u001b[49m\u001b[38;5;241;43m=\u001b[39;49m\u001b[38;5;28;43;01mTrue\u001b[39;49;00m\u001b[43m)\u001b[49m\n",
      "File \u001b[0;32m~/Code/notia/client/notia/download_manager.py:214\u001b[0m, in \u001b[0;36mload_dataset\u001b[0;34m(slug, split, load)\u001b[0m\n\u001b[1;32m    212\u001b[0m datasets \u001b[38;5;241m=\u001b[39m []\n\u001b[1;32m    213\u001b[0m \u001b[38;5;28;01mfor\u001b[39;00m file \u001b[38;5;129;01min\u001b[39;00m os\u001b[38;5;241m.\u001b[39mlistdir(local_path):\n\u001b[0;32m--> 214\u001b[0m     datasets\u001b[38;5;241m.\u001b[39mappend(\u001b[43m_handle_split\u001b[49m\u001b[43m(\u001b[49m\u001b[43mlocal_path\u001b[49m\u001b[43m,\u001b[49m\u001b[43m \u001b[49m\u001b[43mfile\u001b[49m\u001b[43m)\u001b[49m)\n\u001b[1;32m    215\u001b[0m \u001b[38;5;28;01mreturn\u001b[39;00m \u001b[38;5;28mtuple\u001b[39m(datasets)\n",
      "File \u001b[0;32m~/Code/notia/client/notia/download_manager.py:194\u001b[0m, in \u001b[0;36m_handle_split\u001b[0;34m(local_path, split)\u001b[0m\n\u001b[1;32m    192\u001b[0m     \u001b[38;5;28;01mreturn\u001b[39;00m _handle_json(\u001b[38;5;124mf\u001b[39m\u001b[38;5;124m\"\u001b[39m\u001b[38;5;132;01m{\u001b[39;00mfpath\u001b[38;5;132;01m}\u001b[39;00m\u001b[38;5;124m.json\u001b[39m\u001b[38;5;124m\"\u001b[39m)\n\u001b[1;32m    193\u001b[0m \u001b[38;5;28;01melse\u001b[39;00m:\n\u001b[0;32m--> 194\u001b[0m     \u001b[38;5;28;01mraise\u001b[39;00m \u001b[38;5;167;01mValueError\u001b[39;00m(\n\u001b[1;32m    195\u001b[0m         (\n\u001b[1;32m    196\u001b[0m             \u001b[38;5;124m\"\u001b[39m\u001b[38;5;124mLoad was true, but Tabular or JSON file was not\u001b[39m\u001b[38;5;124m\"\u001b[39m\n\u001b[1;32m    197\u001b[0m             \u001b[38;5;124m\"\u001b[39m\u001b[38;5;124mprovided. Please set load to false and manually load the file\u001b[39m\u001b[38;5;124m\"\u001b[39m\n\u001b[1;32m    198\u001b[0m             \u001b[38;5;124m\"\u001b[39m\u001b[38;5;124mfrom the provided Path. \u001b[39m\u001b[38;5;124m\"\u001b[39m\n\u001b[1;32m    199\u001b[0m         )\n\u001b[1;32m    200\u001b[0m     )\n",
      "\u001b[0;31mValueError\u001b[0m: Load was true, but Tabular or JSON file was notprovided. Please set load to false and manually load the filefrom the provided Path. "
     ]
    }
   ],
   "source": [
    "notia.load_dataset(slug=\"TwTctzfV\", load=True)"
   ]
  },
  {
   "cell_type": "code",
   "execution_count": null,
   "id": "3d0fb455",
   "metadata": {},
   "outputs": [],
   "source": []
  }
 ],
 "metadata": {
  "kernelspec": {
   "display_name": "Python 3 (ipykernel)",
   "language": "python",
   "name": "python3"
  },
  "language_info": {
   "codemirror_mode": {
    "name": "ipython",
    "version": 3
   },
   "file_extension": ".py",
   "mimetype": "text/x-python",
   "name": "python",
   "nbconvert_exporter": "python",
   "pygments_lexer": "ipython3",
   "version": "3.8.11"
  }
 },
 "nbformat": 4,
 "nbformat_minor": 5
}

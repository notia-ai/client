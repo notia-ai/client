{
 "cells": [
  {
   "cell_type": "code",
   "execution_count": 1,
   "id": "38bae8e6",
   "metadata": {},
   "outputs": [],
   "source": [
    "import rich"
   ]
  },
  {
   "cell_type": "code",
   "execution_count": 2,
   "id": "6aa20b73",
   "metadata": {},
   "outputs": [],
   "source": [
    "import notia"
   ]
  },
  {
   "cell_type": "code",
   "execution_count": null,
   "id": "f5d8ac3d",
   "metadata": {},
   "outputs": [
    {
     "data": {
      "text/html": [
       "<pre style=\"white-space:pre;overflow-x:auto;line-height:normal;font-family:Menlo,'DejaVu Sans Mono',consolas,'Courier New',monospace\"><span style=\"color: #808000; text-decoration-color: #808000; font-weight: bold\">╔═══════════════════════════════════════════════════════════════════════════════════════════╗</span>\n",
       "<span style=\"color: #808000; text-decoration-color: #808000; font-weight: bold\">║ You can find your API key 🔑 in your browser </span><a href=\"https://notia.ai/authorize\" target=\"_blank\"><span style=\"color: #000080; text-decoration-color: #000080; font-weight: bold; text-decoration: underline\">here</span></a><span style=\"color: #808000; text-decoration-color: #808000; font-weight: bold\">                                         ║</span>\n",
       "<span style=\"color: #808000; text-decoration-color: #808000; font-weight: bold\">╚═══════════════════════════════════════════════════════════════════════════════════════════╝</span>\n",
       "</pre>\n"
      ],
      "text/plain": [
       "\u001b[1;33m╔═══════════════════════════════════════════════════════════════════════════════════════════╗\u001b[0m\n",
       "\u001b[1;33m║\u001b[0m\u001b[1;33m \u001b[0m\u001b[1;33mYou can find your API key 🔑 in your browser \u001b[0m\u001b]8;id=830386;https://notia.ai/authorize\u001b\\\u001b[1;4;34mhere\u001b[0m\u001b]8;;\u001b\\\u001b[1;33m \u001b[0m\u001b[1;33m                                       \u001b[0m\u001b[1;33m \u001b[0m\u001b[1;33m║\u001b[0m\n",
       "\u001b[1;33m╚═══════════════════════════════════════════════════════════════════════════════════════════╝\u001b[0m\n"
      ]
     },
     "metadata": {},
     "output_type": "display_data"
    },
    {
     "data": {
      "text/html": [
       "<pre style=\"white-space:pre;overflow-x:auto;line-height:normal;font-family:Menlo,'DejaVu Sans Mono',consolas,'Courier New',monospace\"><span style=\"color: #008000; text-decoration-color: #008000; font-weight: bold\">Paste the API key from your profile and hit enter, or press ctrl+c to quit: </span>\n",
       "</pre>\n"
      ],
      "text/plain": [
       "\u001b[1;32mPaste the API key from your profile and hit enter, or press ctrl+c to quit: \u001b[0m\n"
      ]
     },
     "metadata": {},
     "output_type": "display_data"
    }
   ],
   "source": [
    "notia.login(relogin=True)"
   ]
  },
  {
   "cell_type": "code",
   "execution_count": 3,
   "id": "bfed80f8",
   "metadata": {},
   "outputs": [
    {
     "name": "stdout",
     "output_type": "stream",
     "text": [
      "notia==0.1.0\n"
     ]
    }
   ],
   "source": [
    "import pkg_resources\n",
    "import types\n",
    "def get_imports():\n",
    "    for name, val in globals().items():\n",
    "        if isinstance(val, types.ModuleType):\n",
    "            # Split ensures you get root package, \n",
    "            # not just imported function\n",
    "            name = val.__name__.split(\".\")[0]\n",
    "\n",
    "        elif isinstance(val, type):\n",
    "            name = val.__module__.split(\".\")[0]\n",
    "\n",
    "        # Some packages are weird and have different\n",
    "        # imported names vs. system/pip names. Unfortunately,\n",
    "        # there is no systematic way to get pip names from\n",
    "        # a package's imported name. You'll have to add\n",
    "        # exceptions to this list manually!\n",
    "        poorly_named_packages = {\n",
    "            \"PIL\": \"Pillow\",\n",
    "            \"sklearn\": \"scikit-learn\"\n",
    "        }\n",
    "        if name in poorly_named_packages.keys():\n",
    "            name = poorly_named_packages[name]\n",
    "\n",
    "        yield name\n",
    "imports = list(set(get_imports()))\n",
    "\n",
    "# The only way I found to get the version of the root package\n",
    "# from only the name of the package is to cross-check the names \n",
    "# of installed packages vs. imported packages\n",
    "requirements = []\n",
    "for m in pkg_resources.working_set:\n",
    "    if m.project_name in imports and m.project_name!=\"pip\":\n",
    "        requirements.append((m.project_name, m.version))\n",
    "\n",
    "for r in requirements:\n",
    "    print(\"{}=={}\".format(*r))"
   ]
  },
  {
   "cell_type": "code",
   "execution_count": null,
   "id": "ef186e45",
   "metadata": {},
   "outputs": [],
   "source": []
  }
 ],
 "metadata": {
  "kernelspec": {
   "display_name": "Python 3 (ipykernel)",
   "language": "python",
   "name": "python3"
  },
  "language_info": {
   "codemirror_mode": {
    "name": "ipython",
    "version": 3
   },
   "file_extension": ".py",
   "mimetype": "text/x-python",
   "name": "python",
   "nbconvert_exporter": "python",
   "pygments_lexer": "ipython3",
   "version": "3.8.11"
  }
 },
 "nbformat": 4,
 "nbformat_minor": 5
}
